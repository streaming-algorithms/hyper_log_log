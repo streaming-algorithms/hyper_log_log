{
 "cells": [
  {
   "cell_type": "markdown",
   "metadata": {},
   "source": [
    "# Hyper log log benchmark"
   ]
  },
  {
   "cell_type": "code",
   "execution_count": 1,
   "metadata": {},
   "outputs": [],
   "source": [
    "from hyper_log_log import HyperLogLog\n",
    "from hyper_log_log.tools import theoretical_error_rate, experimental_error_rate\n",
    "import matplotlib.pyplot as plt"
   ]
  },
  {
   "cell_type": "markdown",
   "metadata": {},
   "source": [
    "### Theoretical error rate"
   ]
  },
  {
   "cell_type": "code",
   "execution_count": 2,
   "metadata": {},
   "outputs": [
    {
     "data": {
      "image/png": "[encoded data removed]",
      "text/plain": [
       "<Figure size 720x360 with 1 Axes>"
      ]
     },
     "metadata": {
      "needs_background": "light"
     },
     "output_type": "display_data"
    }
   ],
   "source": [
    "sample_nb_buckets = [2 ** x for x in range(4, 16)]\n",
    "sample_error_rate = [theoretical_error_rate(nb_buckets) for nb_buckets in sample_nb_buckets]\n",
    "plt.figure(figsize=(10,5))\n",
    "plt.title(\"Theoretical error rate = f(nb buckets)\")\n",
    "plt.ylabel(\"Error rate\")\n",
    "plt.xlabel(\"Nb buckets\")\n",
    "plt.plot(sample_nb_buckets, sample_error_rate)\n",
    "plt.show()"
   ]
  },
  {
   "cell_type": "markdown",
   "metadata": {},
   "source": [
    "### Experimental  error rate"
   ]
  },
  {
   "cell_type": "code",
   "execution_count": 3,
   "metadata": {},
   "outputs": [],
   "source": [
    "INPUT_CARDINALITY = 10 ** 9\n",
    "NB_ITERATIONS = 1"
   ]
  },
  {
   "cell_type": "code",
   "execution_count": null,
   "metadata": {
    "scrolled": true
   },
   "outputs": [
    {
     "name": "stderr",
     "output_type": "stream",
     "text": [
      "2019-11-02 18:14:34,476 - hyper_log_log.hyper_log_log - INFO - HyperLogLog with 16 buckets\n"
     ]
    }
   ],
   "source": [
    "sample_nb_buckets = [2 ** x for x in range(4, 16)]\n",
    "sample_error_rate = [experimental_error_rate(nb_buckets=nb_buckets,\n",
    "                                             cardinality=INPUT_CARDINALITY,\n",
    "                                             nb_iterations=NB_ITERATIONS)\\\n",
    "                     for nb_buckets in sample_nb_buckets]"
   ]
  },
  {
   "cell_type": "code",
   "execution_count": null,
   "metadata": {},
   "outputs": [],
   "source": [
    "plt.figure(figsize=(10,5))\n",
    "plt.title(\"Theoretical error rate = f(nb buckets)\")\n",
    "plt.xlabel(\"Error rate\")\n",
    "plt.ylabel(\"Nb buckets\")\n",
    "plt.plot(sample_nb_buckets, sample_error_rate)\n",
    "plt.show()"
   ]
  },
  {
   "cell_type": "code",
   "execution_count": null,
   "metadata": {},
   "outputs": [],
   "source": []
  }
 ],
 "metadata": {
  "kernelspec": {
   "display_name": "Python 3",
   "language": "python",
   "name": "python3"
  },
  "language_info": {
   "codemirror_mode": {
    "name": "ipython",
    "version": 3
   },
   "file_extension": ".py",
   "mimetype": "text/x-python",
   "name": "python",
   "nbconvert_exporter": "python",
   "pygments_lexer": "ipython3",
   "version": "3.6.5"
  }
 },
 "nbformat": 4,
 "nbformat_minor": 2
}
