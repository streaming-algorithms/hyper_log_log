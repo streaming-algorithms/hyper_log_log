{
 "cells": [
  {
   "cell_type": "markdown",
   "metadata": {},
   "source": [
    "# Hyper log log benchmark"
   ]
  },
  {
   "cell_type": "code",
   "execution_count": 1,
   "metadata": {},
   "outputs": [],
   "source": [
    "from hyper_log_log import HyperLogLog\n",
    "from hyper_log_log.tools import theoretical_error_rate, experimental_error_rate\n",
    "import matplotlib.pyplot as plt"
   ]
  },
  {
   "cell_type": "markdown",
   "metadata": {},
   "source": [
    "### Theoretical error rate"
   ]
  },
  {
   "cell_type": "code",
   "execution_count": 3,
   "metadata": {},
   "outputs": [
    {
     "data": {
      "image/png": "[encoded data removed]",
      "text/plain": [
       "<Figure size 720x360 with 1 Axes>"
      ]
     },
     "metadata": {
      "needs_background": "light"
     },
     "output_type": "display_data"
    }
   ],
   "source": [
    "sample_nb_buckets = [2 ** x for x in range(4, 16)]\n",
    "sample_error_rate = [theoretical_error_rate(nb_buckets) for nb_buckets in sample_nb_buckets]\n",
    "plt.figure(figsize=(10,5))\n",
    "plt.title(\"Theoretical error rate = f(nb buckets)\")\n",
    "plt.ylabel(\"Error rate\")\n",
    "plt.xlabel(\"Nb buckets\")\n",
    "plt.plot(sample_nb_buckets, sample_error_rate)\n",
    "plt.show()"
   ]
  },
  {
   "cell_type": "markdown",
   "metadata": {},
   "source": [
    "### Experimental  error rate"
   ]
  },
  {
   "cell_type": "code",
   "execution_count": 27,
   "metadata": {},
   "outputs": [],
   "source": [
    "INPUT_CARDINALITY = 10 ** 6\n",
    "NB_ITERATIONS = 5"
   ]
  },
  {
   "cell_type": "code",
   "execution_count": 28,
   "metadata": {
    "scrolled": true
   },
   "outputs": [
    {
     "name": "stderr",
     "output_type": "stream",
     "text": [
      "2019-11-02 15:52:24,611 - hyper_log_log.hyper_log_log - INFO - HyperLogLog with 16 buckets\n",
      "2019-11-02 15:52:27,347 - hyper_log_log.hyper_log_log - INFO - Intermediate range\n",
      "2019-11-02 15:52:27,348 - hyper_log_log.hyper_log_log - INFO - HyperLogLog with 16 buckets\n",
      "2019-11-02 15:52:29,999 - hyper_log_log.hyper_log_log - INFO - Intermediate range\n",
      "2019-11-02 15:52:30,000 - hyper_log_log.hyper_log_log - INFO - HyperLogLog with 16 buckets\n",
      "2019-11-02 15:52:32,754 - hyper_log_log.hyper_log_log - INFO - Intermediate range\n",
      "2019-11-02 15:52:32,754 - hyper_log_log.hyper_log_log - INFO - HyperLogLog with 16 buckets\n",
      "2019-11-02 15:52:35,456 - hyper_log_log.hyper_log_log - INFO - Intermediate range\n",
      "2019-11-02 15:52:35,457 - hyper_log_log.hyper_log_log - INFO - HyperLogLog with 16 buckets\n",
      "2019-11-02 15:52:38,164 - hyper_log_log.hyper_log_log - INFO - Intermediate range\n",
      "2019-11-02 15:52:38,165 - hyper_log_log.hyper_log_log - INFO - HyperLogLog with 32 buckets\n",
      "2019-11-02 15:52:40,843 - hyper_log_log.hyper_log_log - INFO - Intermediate range\n",
      "2019-11-02 15:52:40,843 - hyper_log_log.hyper_log_log - INFO - HyperLogLog with 32 buckets\n",
      "2019-11-02 15:52:43,500 - hyper_log_log.hyper_log_log - INFO - Intermediate range\n",
      "2019-11-02 15:52:43,501 - hyper_log_log.hyper_log_log - INFO - HyperLogLog with 32 buckets\n",
      "2019-11-02 15:52:46,175 - hyper_log_log.hyper_log_log - INFO - Intermediate range\n",
      "2019-11-02 15:52:46,176 - hyper_log_log.hyper_log_log - INFO - HyperLogLog with 32 buckets\n",
      "2019-11-02 15:52:48,792 - hyper_log_log.hyper_log_log - INFO - Intermediate range\n",
      "2019-11-02 15:52:48,793 - hyper_log_log.hyper_log_log - INFO - HyperLogLog with 32 buckets\n",
      "2019-11-02 15:52:51,452 - hyper_log_log.hyper_log_log - INFO - Intermediate range\n",
      "2019-11-02 15:52:51,453 - hyper_log_log.hyper_log_log - INFO - HyperLogLog with 64 buckets\n",
      "2019-11-02 15:52:54,148 - hyper_log_log.hyper_log_log - INFO - Intermediate range\n",
      "2019-11-02 15:52:54,149 - hyper_log_log.hyper_log_log - INFO - HyperLogLog with 64 buckets\n",
      "2019-11-02 15:52:56,848 - hyper_log_log.hyper_log_log - INFO - Intermediate range\n",
      "2019-11-02 15:52:56,849 - hyper_log_log.hyper_log_log - INFO - HyperLogLog with 64 buckets\n",
      "2019-11-02 15:52:59,671 - hyper_log_log.hyper_log_log - INFO - Intermediate range\n",
      "2019-11-02 15:52:59,671 - hyper_log_log.hyper_log_log - INFO - HyperLogLog with 64 buckets\n",
      "2019-11-02 15:53:02,399 - hyper_log_log.hyper_log_log - INFO - Intermediate range\n",
      "2019-11-02 15:53:02,400 - hyper_log_log.hyper_log_log - INFO - HyperLogLog with 64 buckets\n",
      "2019-11-02 15:53:05,105 - hyper_log_log.hyper_log_log - INFO - Intermediate range\n",
      "2019-11-02 15:53:05,106 - hyper_log_log.hyper_log_log - INFO - HyperLogLog with 128 buckets\n",
      "2019-11-02 15:53:07,785 - hyper_log_log.hyper_log_log - INFO - Intermediate range\n",
      "2019-11-02 15:53:07,786 - hyper_log_log.hyper_log_log - INFO - HyperLogLog with 128 buckets\n",
      "2019-11-02 15:53:10,432 - hyper_log_log.hyper_log_log - INFO - Intermediate range\n",
      "2019-11-02 15:53:10,433 - hyper_log_log.hyper_log_log - INFO - HyperLogLog with 128 buckets\n",
      "2019-11-02 15:53:13,102 - hyper_log_log.hyper_log_log - INFO - Intermediate range\n",
      "2019-11-02 15:53:13,103 - hyper_log_log.hyper_log_log - INFO - HyperLogLog with 128 buckets\n",
      "2019-11-02 15:53:15,729 - hyper_log_log.hyper_log_log - INFO - Intermediate range\n",
      "2019-11-02 15:53:15,731 - hyper_log_log.hyper_log_log - INFO - HyperLogLog with 128 buckets\n",
      "2019-11-02 15:53:18,438 - hyper_log_log.hyper_log_log - INFO - Intermediate range\n",
      "2019-11-02 15:53:18,439 - hyper_log_log.hyper_log_log - INFO - HyperLogLog with 256 buckets\n",
      "2019-11-02 15:53:21,129 - hyper_log_log.hyper_log_log - INFO - Intermediate range\n",
      "2019-11-02 15:53:21,130 - hyper_log_log.hyper_log_log - INFO - HyperLogLog with 256 buckets\n",
      "2019-11-02 15:53:23,758 - hyper_log_log.hyper_log_log - INFO - Intermediate range\n",
      "2019-11-02 15:53:23,759 - hyper_log_log.hyper_log_log - INFO - HyperLogLog with 256 buckets\n",
      "2019-11-02 15:53:26,432 - hyper_log_log.hyper_log_log - INFO - Intermediate range\n",
      "2019-11-02 15:53:26,433 - hyper_log_log.hyper_log_log - INFO - HyperLogLog with 256 buckets\n",
      "2019-11-02 15:53:29,061 - hyper_log_log.hyper_log_log - INFO - Intermediate range\n",
      "2019-11-02 15:53:29,062 - hyper_log_log.hyper_log_log - INFO - HyperLogLog with 256 buckets\n",
      "2019-11-02 15:53:31,732 - hyper_log_log.hyper_log_log - INFO - Intermediate range\n",
      "2019-11-02 15:53:31,733 - hyper_log_log.hyper_log_log - INFO - HyperLogLog with 512 buckets\n",
      "2019-11-02 15:53:34,499 - hyper_log_log.hyper_log_log - INFO - Intermediate range\n",
      "2019-11-02 15:53:34,500 - hyper_log_log.hyper_log_log - INFO - HyperLogLog with 512 buckets\n",
      "2019-11-02 15:53:37,155 - hyper_log_log.hyper_log_log - INFO - Intermediate range\n",
      "2019-11-02 15:53:37,156 - hyper_log_log.hyper_log_log - INFO - HyperLogLog with 512 buckets\n",
      "2019-11-02 15:53:39,858 - hyper_log_log.hyper_log_log - INFO - Intermediate range\n",
      "2019-11-02 15:53:39,858 - hyper_log_log.hyper_log_log - INFO - HyperLogLog with 512 buckets\n",
      "2019-11-02 15:53:42,497 - hyper_log_log.hyper_log_log - INFO - Intermediate range\n",
      "2019-11-02 15:53:42,498 - hyper_log_log.hyper_log_log - INFO - HyperLogLog with 512 buckets\n",
      "2019-11-02 15:53:45,191 - hyper_log_log.hyper_log_log - INFO - Intermediate range\n",
      "2019-11-02 15:53:45,192 - hyper_log_log.hyper_log_log - INFO - HyperLogLog with 1024 buckets\n",
      "2019-11-02 15:53:47,886 - hyper_log_log.hyper_log_log - INFO - Intermediate range\n",
      "2019-11-02 15:53:47,887 - hyper_log_log.hyper_log_log - INFO - HyperLogLog with 1024 buckets\n",
      "2019-11-02 15:53:50,563 - hyper_log_log.hyper_log_log - INFO - Intermediate range\n",
      "2019-11-02 15:53:50,564 - hyper_log_log.hyper_log_log - INFO - HyperLogLog with 1024 buckets\n",
      "2019-11-02 15:53:53,277 - hyper_log_log.hyper_log_log - INFO - Intermediate range\n",
      "2019-11-02 15:53:53,278 - hyper_log_log.hyper_log_log - INFO - HyperLogLog with 1024 buckets\n",
      "2019-11-02 15:53:55,917 - hyper_log_log.hyper_log_log - INFO - Intermediate range\n",
      "2019-11-02 15:53:55,918 - hyper_log_log.hyper_log_log - INFO - HyperLogLog with 1024 buckets\n",
      "2019-11-02 15:53:58,635 - hyper_log_log.hyper_log_log - INFO - Intermediate range\n",
      "2019-11-02 15:53:58,636 - hyper_log_log.hyper_log_log - INFO - HyperLogLog with 2048 buckets\n",
      "2019-11-02 15:54:01,353 - hyper_log_log.hyper_log_log - INFO - Intermediate range\n",
      "2019-11-02 15:54:01,354 - hyper_log_log.hyper_log_log - INFO - HyperLogLog with 2048 buckets\n",
      "2019-11-02 15:54:04,165 - hyper_log_log.hyper_log_log - INFO - Intermediate range\n",
      "2019-11-02 15:54:04,166 - hyper_log_log.hyper_log_log - INFO - HyperLogLog with 2048 buckets\n",
      "2019-11-02 15:54:06,964 - hyper_log_log.hyper_log_log - INFO - Intermediate range\n",
      "2019-11-02 15:54:06,965 - hyper_log_log.hyper_log_log - INFO - HyperLogLog with 2048 buckets\n",
      "2019-11-02 15:54:09,747 - hyper_log_log.hyper_log_log - INFO - Intermediate range\n",
      "2019-11-02 15:54:09,748 - hyper_log_log.hyper_log_log - INFO - HyperLogLog with 2048 buckets\n",
      "2019-11-02 15:54:12,392 - hyper_log_log.hyper_log_log - INFO - Intermediate range\n",
      "2019-11-02 15:54:12,393 - hyper_log_log.hyper_log_log - INFO - HyperLogLog with 4096 buckets\n",
      "2019-11-02 15:54:15,107 - hyper_log_log.hyper_log_log - INFO - Intermediate range\n",
      "2019-11-02 15:54:15,108 - hyper_log_log.hyper_log_log - INFO - HyperLogLog with 4096 buckets\n",
      "2019-11-02 15:54:17,762 - hyper_log_log.hyper_log_log - INFO - Intermediate range\n",
      "2019-11-02 15:54:17,763 - hyper_log_log.hyper_log_log - INFO - HyperLogLog with 4096 buckets\n",
      "2019-11-02 15:54:20,508 - hyper_log_log.hyper_log_log - INFO - Intermediate range\n",
      "2019-11-02 15:54:20,509 - hyper_log_log.hyper_log_log - INFO - HyperLogLog with 4096 buckets\n",
      "2019-11-02 15:54:23,163 - hyper_log_log.hyper_log_log - INFO - Intermediate range\n",
      "2019-11-02 15:54:23,164 - hyper_log_log.hyper_log_log - INFO - HyperLogLog with 4096 buckets\n",
      "2019-11-02 15:54:25,860 - hyper_log_log.hyper_log_log - INFO - Intermediate range\n",
      "2019-11-02 15:54:25,861 - hyper_log_log.hyper_log_log - INFO - HyperLogLog with 8192 buckets\n",
      "2019-11-02 15:54:28,548 - hyper_log_log.hyper_log_log - INFO - Intermediate range\n",
      "2019-11-02 15:54:28,550 - hyper_log_log.hyper_log_log - INFO - HyperLogLog with 8192 buckets\n",
      "2019-11-02 15:54:31,172 - hyper_log_log.hyper_log_log - INFO - Intermediate range\n",
      "2019-11-02 15:54:31,173 - hyper_log_log.hyper_log_log - INFO - HyperLogLog with 8192 buckets\n"
     ]
    },
    {
     "name": "stderr",
     "output_type": "stream",
     "text": [
      "2019-11-02 15:54:33,825 - hyper_log_log.hyper_log_log - INFO - Intermediate range\n",
      "2019-11-02 15:54:33,826 - hyper_log_log.hyper_log_log - INFO - HyperLogLog with 8192 buckets\n",
      "2019-11-02 15:54:36,481 - hyper_log_log.hyper_log_log - INFO - Intermediate range\n",
      "2019-11-02 15:54:36,482 - hyper_log_log.hyper_log_log - INFO - HyperLogLog with 8192 buckets\n",
      "2019-11-02 15:54:39,126 - hyper_log_log.hyper_log_log - INFO - Intermediate range\n",
      "2019-11-02 15:54:39,128 - hyper_log_log.hyper_log_log - INFO - HyperLogLog with 16384 buckets\n",
      "2019-11-02 15:54:41,808 - hyper_log_log.hyper_log_log - INFO - Intermediate range\n",
      "2019-11-02 15:54:41,809 - hyper_log_log.hyper_log_log - INFO - HyperLogLog with 16384 buckets\n",
      "2019-11-02 15:54:44,485 - hyper_log_log.hyper_log_log - INFO - Intermediate range\n",
      "2019-11-02 15:54:44,486 - hyper_log_log.hyper_log_log - INFO - HyperLogLog with 16384 buckets\n",
      "2019-11-02 15:54:47,198 - hyper_log_log.hyper_log_log - INFO - Intermediate range\n",
      "2019-11-02 15:54:47,199 - hyper_log_log.hyper_log_log - INFO - HyperLogLog with 16384 buckets\n",
      "2019-11-02 15:54:49,851 - hyper_log_log.hyper_log_log - INFO - Intermediate range\n",
      "2019-11-02 15:54:49,852 - hyper_log_log.hyper_log_log - INFO - HyperLogLog with 16384 buckets\n",
      "2019-11-02 15:54:52,573 - hyper_log_log.hyper_log_log - INFO - Intermediate range\n",
      "2019-11-02 15:54:52,575 - hyper_log_log.hyper_log_log - INFO - HyperLogLog with 32768 buckets\n",
      "2019-11-02 15:54:55,273 - hyper_log_log.hyper_log_log - INFO - Intermediate range\n",
      "2019-11-02 15:54:55,275 - hyper_log_log.hyper_log_log - INFO - HyperLogLog with 32768 buckets\n",
      "2019-11-02 15:54:57,933 - hyper_log_log.hyper_log_log - INFO - Intermediate range\n",
      "2019-11-02 15:54:57,936 - hyper_log_log.hyper_log_log - INFO - HyperLogLog with 32768 buckets\n",
      "2019-11-02 15:55:00,584 - hyper_log_log.hyper_log_log - INFO - Intermediate range\n",
      "2019-11-02 15:55:00,586 - hyper_log_log.hyper_log_log - INFO - HyperLogLog with 32768 buckets\n",
      "2019-11-02 15:55:03,225 - hyper_log_log.hyper_log_log - INFO - Intermediate range\n",
      "2019-11-02 15:55:03,230 - hyper_log_log.hyper_log_log - INFO - HyperLogLog with 32768 buckets\n",
      "2019-11-02 15:55:05,912 - hyper_log_log.hyper_log_log - INFO - Intermediate range\n"
     ]
    }
   ],
   "source": [
    "sample_nb_buckets = [2 ** x for x in range(4, 16)]\n",
    "sample_error_rate = [experimental_error_rate(nb_buckets=nb_buckets,\n",
    "                                             cardinality=INPUT_CARDINALITY,\n",
    "                                             nb_iterations=NB_ITERATIONS)\\\n",
    "                     for nb_buckets in sample_nb_buckets]"
   ]
  },
  {
   "cell_type": "code",
   "execution_count": 29,
   "metadata": {},
   "outputs": [
    {
     "data": {
      "image/png": "[encoded data removed]",
      "text/plain": [
       "<Figure size 720x360 with 1 Axes>"
      ]
     },
     "metadata": {
      "needs_background": "light"
     },
     "output_type": "display_data"
    }
   ],
   "source": [
    "plt.figure(figsize=(10,5))\n",
    "plt.title(\"Theoretical error rate = f(nb buckets)\")\n",
    "plt.xlabel(\"Error rate\")\n",
    "plt.ylabel(\"Nb buckets\")\n",
    "plt.plot(sample_nb_buckets, sample_error_rate)\n",
    "plt.show()"
   ]
  },
  {
   "cell_type": "code",
   "execution_count": null,
   "metadata": {},
   "outputs": [],
   "source": []
  }
 ],
 "metadata": {
  "kernelspec": {
   "display_name": "Python 3",
   "language": "python",
   "name": "python3"
  },
  "language_info": {
   "codemirror_mode": {
    "name": "ipython",
    "version": 3
   },
   "file_extension": ".py",
   "mimetype": "text/x-python",
   "name": "python",
   "nbconvert_exporter": "python",
   "pygments_lexer": "ipython3",
   "version": "3.6.5"
  }
 },
 "nbformat": 4,
 "nbformat_minor": 2
}
