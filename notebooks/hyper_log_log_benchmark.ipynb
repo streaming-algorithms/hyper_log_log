{
 "cells": [
  {
   "cell_type": "markdown",
   "metadata": {},
   "source": [
    "# Hyper log log benchmark"
   ]
  },
  {
   "cell_type": "code",
   "execution_count": 2,
   "metadata": {},
   "outputs": [],
   "source": [
    "from streaming_algorithms import HyperLogLog\n",
    "from streaming_algorithms.hyper_log_log.tools import theoretical_error_rate, \\\n",
    "    experimental_error_rate\n",
    "import matplotlib.pyplot as plt"
   ]
  },
  {
   "cell_type": "markdown",
   "metadata": {},
   "source": [
    "### Theoretical error rate"
   ]
  },
  {
   "cell_type": "code",
   "execution_count": 12,
   "metadata": {},
   "outputs": [
    {
     "data": {
      "image/png": "[encoded data removed]",
      "text/plain": [
       "<Figure size 360x360 with 1 Axes>"
      ]
     },
     "metadata": {
      "needs_background": "light"
     },
     "output_type": "display_data"
    }
   ],
   "source": [
    "sample_nb_buckets = [2 ** x for x in range(4, 16)]\n",
    "sample_error_rate = [theoretical_error_rate(nb_buckets) for nb_buckets in sample_nb_buckets]\n",
    "plt.figure(figsize=(15,5))\n",
    "plt.title(\"Theoretical error rate = f(nb buckets)\")\n",
    "plt.xlabel(\"Error rate\")\n",
    "plt.ylabel(\"Nb buckets\")\n",
    "plt.plot(sample_nb_buckets, sample_error_rate)\n",
    "plt.show()"
   ]
  },
  {
   "cell_type": "markdown",
   "metadata": {},
   "source": [
    "### Experimental  error rate"
   ]
  },
  {
   "cell_type": "code",
   "execution_count": null,
   "metadata": {},
   "outputs": [],
   "source": [
    "INPUT_CARDINALITY = 10 ** 6\n",
    "NB_BUCKETS = 16\n",
    "NB_ITERATIONS = 10"
   ]
  },
  {
   "cell_type": "markdown",
   "metadata": {},
   "source": [
    "1. Fixed input cardinality"
   ]
  },
  {
   "cell_type": "code",
   "execution_count": null,
   "metadata": {},
   "outputs": [],
   "source": [
    "sample_nb_buckets = [2 ** x for x in range(4, 16)]\n",
    "sample_error_rate = [experimental_error_rate(nb_buckets=nb_buckets,\n",
    "                                             cardinality=INPUT_CARDINALITY,\n",
    "                                             nb_iterations=NB_ITERATIONS)\\\n",
    "                     for nb_buckets in sample_nb_buckets]"
   ]
  },
  {
   "cell_type": "code",
   "execution_count": null,
   "metadata": {},
   "outputs": [],
   "source": [
    "plt.figure(figsize=(15,5))\n",
    "plt.title(\"Theoretical error rate = f(nb buckets)\")\n",
    "plt.xlabel(\"Error rate\")\n",
    "plt.ylabel(\"Nb buckets\")\n",
    "plt.plot(sample_nb_buckets, sample_error_rate)\n",
    "plt.show()"
   ]
  },
  {
   "cell_type": "code",
   "execution_count": null,
   "metadata": {},
   "outputs": [],
   "source": []
  }
 ],
 "metadata": {
  "kernelspec": {
   "display_name": "Python 3",
   "language": "python",
   "name": "python3"
  },
  "language_info": {
   "codemirror_mode": {
    "name": "ipython",
    "version": 3
   },
   "file_extension": ".py",
   "mimetype": "text/x-python",
   "name": "python",
   "nbconvert_exporter": "python",
   "pygments_lexer": "ipython3",
   "version": "3.7.0"
  }
 },
 "nbformat": 4,
 "nbformat_minor": 2
}
